{
 "cells": [
  {
   "cell_type": "code",
   "execution_count": null,
   "id": "24918e5f",
   "metadata": {},
   "outputs": [],
   "source": [
    "# Installs and imports dependencies\n",
    "\n",
    "!pip install langgraph\n",
    "\n",
    "from typing import Dict, TypedDict # TypedDict` is a feature from Python's `typing` module that allows you to define dictionary types with specific key-value pairs where each key has a predefined type for its values.\n",
    "from langgraph.graph import StateGraph # design and manage the flow of tasks"
   ]
  },
  {
   "cell_type": "code",
   "execution_count": null,
   "id": "93f22b0e",
   "metadata": {},
   "outputs": [],
   "source": []
  }
 ],
 "metadata": {
  "language_info": {
   "name": "python"
  }
 },
 "nbformat": 4,
 "nbformat_minor": 5
}
